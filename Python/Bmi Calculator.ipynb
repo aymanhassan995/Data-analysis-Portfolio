{
 "cells": [
  {
   "cell_type": "code",
   "execution_count": null,
   "metadata": {},
   "outputs": [
    {
     "ename": "",
     "evalue": "",
     "output_type": "error",
     "traceback": [
      "\u001b[1;31mRunning cells with 'c:\\Users\\Ayman\\AppData\\Local\\Microsoft\\WindowsApps\\python3.11.exe' requires the ipykernel package.\n",
      "\u001b[1;31mRun the following command to install 'ipykernel' into the Python environment. \n",
      "\u001b[1;31mCommand: 'c:/Users/Ayman/AppData/Local/Microsoft/WindowsApps/python3.11.exe -m pip install ipykernel -U --user --force-reinstall'"
     ]
    }
   ],
   "source": [
    "\n",
    "\n",
    "name=input('Please,Enter your name :')\n",
    "weight=float(input(\"Enter Your Wight by pounds :\"))\n",
    "Hight=float(input(\"Enter Your Hight by inches :\"))\n",
    "Bmi=(weight * 703)/(Hight*Hight)\n",
    "if Bmi < (18.5) :\n",
    "    print(name+\",your BMI is \"+str(Bmi))\n",
    "    print(\"You are under weight\")\n",
    "    print('Health Risk: Minimal')\n",
    "elif Bmi <= 24.9 :\n",
    "    print(name+\",your BMI is \"+str(Bmi))\n",
    "    print('You are normal weight')\n",
    "    print('Health Risk: Minimal')\n",
    "elif  Bmi <= 29.9  :            \n",
    "    print(name+\",your BMI is \" +str(Bmi))\n",
    "    print('You are over weight')\n",
    "    print('Health Risk: Increased')\n",
    "elif Bmi <= 34.9 :\n",
    "    print(name+\",your BMI is \" +str(Bmi))\n",
    "    print('You are obese weight')\n",
    "    print('Health Risk: Hight')\n",
    "elif Bmi <= 39.9  :\n",
    "    print(name+\",your BMI is \" +str(Bmi))\n",
    "    print('You are severely obese')\n",
    "    print('Health Risk: Very Hight')\n",
    "else :\n",
    "    print(name+\",your BMI is \" +str(Bmi))\n",
    "    print('You are morbidly obese')\n",
    "    print('Health Risk: Extremely Hight')\n",
    "    Bmi=Bmi+1\n",
    "\n"
   ]
  },
  {
   "cell_type": "code",
   "execution_count": null,
   "metadata": {},
   "outputs": [],
   "source": [
    "\n",
    "number=0\n",
    "while number < 100:\n",
    "    name=input('Please,Enter your name :')\n",
    "    weight=float(input(\"Enter Your Wight by pounds :\"))\n",
    "    Hight=float(input(\"Enter Your Hight by inches :\"))\n",
    "    Bmi=(weight * 703)/(Hight*Hight)\n",
    "    if Bmi < (18.5) :\n",
    "        print(name+\",your BMI is \"+str(Bmi))\n",
    "        print(\"You are under weight\")\n",
    "        print('Health Risk: Minimal')\n",
    "    elif Bmi <= 24.9 :\n",
    "        print(name+\",your BMI is \"+str(Bmi))\n",
    "        print('You are normal weight')\n",
    "        print('Health Risk: Minimal')\n",
    "    elif  Bmi <= 29.9  :            \n",
    "        print(name+\",your BMI is \" +str(Bmi))\n",
    "        print('You are over weight')\n",
    "        print('Health Risk: Increased')\n",
    "    elif Bmi <= 34.9 :\n",
    "        print(name+\",your BMI is \" +str(Bmi))\n",
    "        print('You are obese weight')\n",
    "        print('Health Risk: Hight')\n",
    "    elif Bmi <= 39.9  :\n",
    "        print(name+\",your BMI is \" +str(Bmi))\n",
    "        print('You are severely obese')\n",
    "        print('Health Risk: Very Hight')\n",
    "    else :\n",
    "        print(name+\",your BMI is \" +str(Bmi))\n",
    "        print('You are morbidly obese')\n",
    "        print('Health Risk: Extremely Hight')\n",
    "        Bmi=Bmi+1\n",
    "    number=number+1\n",
    "\n",
    "\n"
   ]
  },
  {
   "cell_type": "code",
   "execution_count": 1,
   "metadata": {},
   "outputs": [],
   "source": [
    "intg=[1,2,3,4,5,6,7,8,9]\n",
    "for bmi in intg:\n",
    "    name=input('Please,Enter your name :')\n",
    "    weight=float(input(\"Enter Your Wight by pounds :\"))\n",
    "    Hight=float(input(\"Enter Your Hight by inches :\"))\n",
    "    Bmi=(weight * 703)/(Hight*Hight)\n",
    "    if Bmi < (18.5) :\n",
    "        print(name+\",your BMI is \"+str(Bmi))\n",
    "        print(\"You are under weight\")\n",
    "        print('Health Risk: Minimal')\n",
    "    elif Bmi <= 24.9 :\n",
    "        print(name+\",your BMI is \"+str(Bmi))\n",
    "        print('You are normal weight')\n",
    "        print('Health Risk: Minimal')\n",
    "    elif  Bmi <= 29.9  :            \n",
    "        print(name+\",your BMI is \" +str(Bmi))\n",
    "        print('You are over weight')\n",
    "        print('Health Risk: Increased')\n",
    "    elif Bmi <= 34.9 :\n",
    "        print(name+\",your BMI is \" +str(Bmi))\n",
    "        print('You are obese weight')\n",
    "        print('Health Risk: Hight')\n",
    "    elif Bmi <= 39.9  :\n",
    "        print(name+\",your BMI is \" +str(Bmi))\n",
    "        print('You are severely obese')\n",
    "        print('Health Risk: Very Hight')\n",
    "    else :\n",
    "        print(name+\",your BMI is \" +str(Bmi))\n",
    "        print('You are morbidly obese')\n",
    "        print('Health Risk: Extremely Hight')\n",
    "        Bmi=Bmi+1\n"
   ]
  },
  {
   "cell_type": "code",
   "execution_count": null,
   "metadata": {},
   "outputs": [],
   "source": []
  }
 ],
 "metadata": {
  "kernelspec": {
   "display_name": "base",
   "language": "python",
   "name": "python3"
  },
  "language_info": {
   "codemirror_mode": {
    "name": "ipython",
    "version": 3
   },
   "file_extension": ".py",
   "mimetype": "text/x-python",
   "name": "python",
   "nbconvert_exporter": "python",
   "pygments_lexer": "ipython3",
   "version": "3.11.8"
  }
 },
 "nbformat": 4,
 "nbformat_minor": 2
}
