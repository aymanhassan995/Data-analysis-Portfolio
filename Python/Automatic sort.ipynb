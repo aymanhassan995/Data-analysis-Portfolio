{
 "cells": [
  {
   "cell_type": "markdown",
   "metadata": {},
   "source": [
    "# Automatic File Sort"
   ]
  },
  {
   "cell_type": "code",
   "execution_count": null,
   "metadata": {},
   "outputs": [],
   "source": []
  },
  {
   "cell_type": "code",
   "execution_count": 48,
   "metadata": {},
   "outputs": [],
   "source": [
    "import os,shutil"
   ]
  },
  {
   "cell_type": "code",
   "execution_count": 49,
   "metadata": {},
   "outputs": [],
   "source": [
    "path=r\"E:/Projects/Data Portofolo/Work/\""
   ]
  },
  {
   "cell_type": "code",
   "execution_count": null,
   "metadata": {},
   "outputs": [],
   "source": [
    "os.listdir(path)"
   ]
  },
  {
   "cell_type": "code",
   "execution_count": 50,
   "metadata": {},
   "outputs": [],
   "source": [
    "file_list=os.listdir(path)"
   ]
  },
  {
   "cell_type": "code",
   "execution_count": 53,
   "metadata": {},
   "outputs": [],
   "source": [
    "folder_name=['Imag Folder','Text Folder','Excel Folder']\n",
    "\n",
    "for loop in range(0,3):\n",
    "    if not  os.path.exists(path+folder_name[loop]):\n",
    "        os.makedirs(path+folder_name[loop])\n",
    "\n",
    "for file in file_list:\n",
    "    if \".jpg\" in file and not os.path.exists(path+\"Imag Folder/\"+file):\n",
    "        shutil.move(path+file,path+\"Imag Folder/\"+file)\n",
    "    if \".txt\" in file and not os.path.exists(path+'Text Folder/'+file):\n",
    "        shutil.move(path+file,path+\"Text Folder/\"+file)\n",
    "    if \".xlsx\" in file and not os.path.exists(path+\"Excel Folder/\"+file):\n",
    "        shutil.move(path+file,path+\"Excel Folder/\"+file)\n"
   ]
  },
  {
   "cell_type": "code",
   "execution_count": null,
   "metadata": {},
   "outputs": [],
   "source": []
  }
 ],
 "metadata": {
  "kernelspec": {
   "display_name": "base",
   "language": "python",
   "name": "python3"
  },
  "language_info": {
   "codemirror_mode": {
    "name": "ipython",
    "version": 3
   },
   "file_extension": ".py",
   "mimetype": "text/x-python",
   "name": "python",
   "nbconvert_exporter": "python",
   "pygments_lexer": "ipython3",
   "version": "3.11.4"
  }
 },
 "nbformat": 4,
 "nbformat_minor": 2
}
